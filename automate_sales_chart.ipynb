{
 "cells": [
  {
   "cell_type": "code",
   "execution_count": 60,
   "metadata": {},
   "outputs": [
    {
     "name": "stdout",
     "output_type": "stream",
     "text": [
      "        Date Region                 Type  Units  Sales\n",
      "0 2020-07-11   East  Children's Clothing   18.0    306\n",
      "1 2020-09-23  North  Children's Clothing   14.0    448\n",
      "2 2020-04-02  South     Women's Clothing   17.0    425\n",
      "3 2020-02-28   East  Children's Clothing   26.0    832\n",
      "4 2020-03-19   West     Women's Clothing    3.0     33\n"
     ]
    }
   ],
   "source": [
    "import pandas as pd\n",
    "\n",
    "from openpyxl import load_workbook\n",
    "from openpyxl.styles import Font\n",
    "from openpyxl.chart import BarChart, Reference\n",
    "\n",
    "#reading the excel file\n",
    "df = pd.read_excel('sample_pivot.xlsx', parse_dates=['Date'])\n",
    "\n",
    "#print first 5 rows\n",
    "print(df.head())"
   ]
  },
  {
   "cell_type": "code",
   "execution_count": 61,
   "metadata": {},
   "outputs": [
    {
     "name": "stdout",
     "output_type": "stream",
     "text": [
      "Quarterly Sales Pivot Table:\n",
      "Type  Children's Clothing  Men's Clothing  Women's Clothing\n",
      "Date                                                       \n",
      "1                    7264            6920              4816\n",
      "2                    4711            2762              3389\n",
      "3                    2218            2844              6505\n",
      "4                    5989            6551              7507\n"
     ]
    }
   ],
   "source": [
    "filtered = df[df['Region'] == 'West']\n",
    "quarterly_sales = pd.pivot_table(filtered, index = filtered['Date'].dt.quarter, columns = 'Type', values = 'Sales', aggfunc='sum')\n",
    "\n",
    "#create pivot table to view region west\n",
    "print(\"Quarterly Sales Pivot Table:\")\n",
    "print(quarterly_sales.head())"
   ]
  },
  {
   "cell_type": "code",
   "execution_count": 62,
   "metadata": {
    "scrolled": true
   },
   "outputs": [],
   "source": [
    "f = pd.ExcelWriter('quarterly_sales.xlsx', engine='xlsxwriter')\n",
    "quarterly_sales.to_excel(f, sheet_name = 'Quarterly Sales', startrow = 3)\n",
    "f.save()"
   ]
  },
  {
   "cell_type": "code",
   "execution_count": 63,
   "metadata": {},
   "outputs": [],
   "source": [
    "# Load the Workbook\n",
    "wb = load_workbook('quarterly_sales.xlsx')\n",
    "sheet1 = wb['Quarterly Sales']\n",
    "\n",
    "# Format the First Sheet\n",
    "sheet1['A1'] = 'Quarterly Sales'\n",
    "sheet1['A2'] = 'Pa Vang'\n",
    "sheet1['A4'] = 'Quarter'\n",
    "\n",
    "sheet1['A1'].style = 'Title'\n",
    "sheet1['A2'].style = 'Headline 2'\n",
    "\n",
    "for i in range(5, 9):\n",
    "    sheet1[f'B{i}'].style='Currency'\n",
    "    sheet1[f'C{i}'].style='Currency'\n",
    "    sheet1[f'D{i}'].style='Currency'\n",
    "\n",
    "# Add a Bar Chart\n",
    "bar_chart = BarChart()\n",
    "data = Reference(sheet1, min_col=2, max_col=4, min_row=4, max_row=8)\n",
    "categories = Reference(sheet1, min_col=1, max_col=1, min_row=5, max_row=8)\n",
    "bar_chart.add_data(data, titles_from_data=True)\n",
    "bar_chart.set_categories(categories)\n",
    "sheet1.add_chart(bar_chart, \"F4\")\n",
    "\n",
    "bar_chart.title = 'Sales by Type'\n",
    "bar_chart.style = 3\n",
    "wb.save('quarterly_sales.xlsx')"
   ]
  },
  {
   "cell_type": "code",
   "execution_count": 64,
   "metadata": {},
   "outputs": [],
   "source": [
    "# Get Region Names\n",
    "regions = list(df['Region'].unique())\n",
    "\n",
    "# Loop Over All Regions\n",
    "for region in regions:\n",
    "    filtered = df[df['Region'] == f'{region}']\n",
    "    quarterly_sales = pd.pivot_table(filtered, index = filtered['Date'].dt.quarter, columns = 'Type', values = 'Sales', aggfunc='sum')\n",
    "    file_path = f\"{region}.xlsx\"\n",
    "    quarterly_sales.to_excel(file_path, sheet_name = 'Quarterly Sales', startrow = 3)\n",
    "    \n",
    "    wb = load_workbook(file_path)\n",
    "    sheet1 = wb['Quarterly Sales']\n",
    "    \n",
    "    sheet1['A1'] = 'Quarterly Sales'\n",
    "    sheet1['A2'] = 'Pa Vang'\n",
    "    sheet1['A4'] = 'Quarter'\n",
    "\n",
    "    sheet1['A1'].style = 'Title'\n",
    "    sheet1['A2'].style = 'Headline 2'\n",
    "\n",
    "    for i in range(5, 10):\n",
    "        sheet1[f'B{i}'].style='Currency'\n",
    "        sheet1[f'C{i}'].style='Currency'\n",
    "        sheet1[f'D{i}'].style='Currency'\n",
    "\n",
    "    bar_chart = BarChart()\n",
    "    data = Reference(sheet1, min_col=2, max_col=4, min_row=4, max_row=8)\n",
    "    categories = Reference(sheet1, min_col=1, max_col=1, min_row=5, max_row=8)\n",
    "    bar_chart.add_data(data, titles_from_data=True)\n",
    "    bar_chart.set_categories(categories)\n",
    "    sheet1.add_chart(bar_chart, \"F4\")\n",
    "\n",
    "    bar_chart.title = 'Sales by Type'\n",
    "    bar_chart.style = 3\n",
    "    wb.save(file_path)"
   ]
  },
  {
   "cell_type": "code",
   "execution_count": null,
   "metadata": {},
   "outputs": [],
   "source": []
  }
 ],
 "metadata": {
  "kernelspec": {
   "display_name": "Python 3",
   "language": "python",
   "name": "python3"
  },
  "language_info": {
   "codemirror_mode": {
    "name": "ipython",
    "version": 3
   },
   "file_extension": ".py",
   "mimetype": "text/x-python",
   "name": "python",
   "nbconvert_exporter": "python",
   "pygments_lexer": "ipython3",
   "version": "3.8.3"
  }
 },
 "nbformat": 4,
 "nbformat_minor": 4
}
